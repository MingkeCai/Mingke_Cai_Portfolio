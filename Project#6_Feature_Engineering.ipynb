{
 "cells": [
  {
   "cell_type": "code",
   "execution_count": 9,
   "id": "ac659474",
   "metadata": {},
   "outputs": [],
   "source": [
    "import pandas as pd"
   ]
  },
  {
   "cell_type": "code",
   "execution_count": 22,
   "id": "81aa20ce",
   "metadata": {},
   "outputs": [
    {
     "name": "stderr",
     "output_type": "stream",
     "text": [
      "D:\\Anaconda\\lib\\site-packages\\IPython\\core\\interactiveshell.py:3165: DtypeWarning: Columns (3) have mixed types.Specify dtype option on import or set low_memory=False.\n",
      "  has_raised = await self.run_ast_nodes(code_ast.body, cell_name,\n"
     ]
    }
   ],
   "source": [
    "df = pd.read_csv('C:/Users/28965/Desktop/Capstone/cleaned_dataset.csv')"
   ]
  },
  {
   "cell_type": "code",
   "execution_count": 23,
   "id": "fdcea9be",
   "metadata": {
    "scrolled": true
   },
   "outputs": [],
   "source": [
    "df['TimeStamp'] = pd.to_datetime(df['TimeStamp'], errors='coerce')\n",
    "\n",
    "df.set_index('TimeStamp', inplace=True)\n",
    "\n",
    "df_resampled = df.resample('H').mean().interpolate(method='linear')\n",
    "\n",
    "df_resampled.reset_index(inplace=True)\n",
    "\n",
    "# df_resampled.head()\n",
    "df_resampled.to_csv('C:/Users/28965/Desktop/Capstone/resampled_data.csv', index=False)"
   ]
  },
  {
   "cell_type": "code",
   "execution_count": 24,
   "id": "f51da392",
   "metadata": {},
   "outputs": [],
   "source": [
    "df_lagged = df_resampled.copy()\n",
    "\n",
    "# Shift all columns by 1 hour except the 'TimeStamp' and 'QualityMeasure' column\n",
    "df_lagged.iloc[:, 2:] = df_resampled.iloc[:, 2:].shift(1)\n",
    "\n",
    "df_lagged.fillna(method='bfill', inplace=True)\n",
    "\n",
    "# df_lagged.head()\n",
    "df_lagged.to_csv('C:/Users/28965/Desktop/Capstone/lagged_data.csv', index=False)"
   ]
  }
 ],
 "metadata": {
  "kernelspec": {
   "display_name": "Python 3",
   "language": "python",
   "name": "python3"
  },
  "language_info": {
   "codemirror_mode": {
    "name": "ipython",
    "version": 3
   },
   "file_extension": ".py",
   "mimetype": "text/x-python",
   "name": "python",
   "nbconvert_exporter": "python",
   "pygments_lexer": "ipython3",
   "version": "3.8.8"
  }
 },
 "nbformat": 4,
 "nbformat_minor": 5
}
